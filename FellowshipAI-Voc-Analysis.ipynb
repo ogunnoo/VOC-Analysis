{
 "cells": [
  {
   "cell_type": "markdown",
   "metadata": {},
   "source": [
    "<img src=\"pascal2.png\">"
   ]
  },
  {
   "cell_type": "markdown",
   "metadata": {},
   "source": [
    "# Introduction\n",
    "The Pascal Visual Object Classes Challenge 2012, a.k.a. VOC2012, is a very popular dataset for building and evaluating algorithms for image classification, object detection, and segmentation. A total of 11540 images are included in this dataset, where each image contains a set of objects, out of 20 different classes, making a total of 27450 annotated objects.\n",
    "\n",
    "The Dataset was gathered by a group of researchers:\n",
    "* Mark Everingham (University of Leeds) \n",
    "* Luc Van Gool (KU Leuven, Leuven, Belgium) \n",
    "* Christopher K. I. Williams (University of Edinburgh, Edinburgh, UK)\n",
    "* John Winn (Microsoft Research, Cambridge, UK)\n",
    "* Andrew Zisserman (University of Oxford, Oxford, UK)\n",
    "\n",
    "For the 2007 challenge, all images were collected from the flickr photo-sharing web-site. The use of personal photos which were not taken by, or selected by, vision/machine learning researchers results in a very “unbiased” dataset, in \n",
    "the sense that the photos are not taken with a particular purpose in mind i.e. object recognition research.\n",
    "The goal of the VOC challenge is to investigate the performance of recognition methods on a wide spectrum of natural images. To this end, it is required that the VOC datasets contain significant variability in terms of object size, orientation, pose, illumination, position and occlusion. It is also important that the datasets do not exhibit systematic bias,for example, favouring images with centred objects or good illumination. It is fundamentally a supervised learning learning problem in that a training set of labelled images is provided. The twenty object classes that have been selected are:\n",
    "\n",
    "* Person: person\n",
    "* Animal: bird, cat, cow, dog, horse, sheep\n",
    "* Vehicle: aeroplane, bicycle, boat, bus, car, motorbike, train\n",
    "* Indoor: bottle, chair, dining table, potted plant, sofa, tv/monitor\n",
    "\n",
    "\n",
    "\n"
   ]
  },
  {
   "cell_type": "markdown",
   "metadata": {},
   "source": [
    "# Objective\n",
    "This project will be based on the classification segement of the VOC challenge. What makes this different from the usual supervised learning problems is the multilabel component to it: the target variable can have multiple labels. The goal of this project is to use transfer learning, using a pretrained ResNet 18, and train on the VOC dataset for 15 epochs. Transfer learning is machine learning techique that enables scientist to benefit from the knowledge gained from a previously used machine learning model for a similar task. \n",
    "In addition to the machine learning technique, an additional technique will be implemented and it's effect on model performance measured: progressive resizing.\n",
    "## Tools\n",
    "This project is written in Python. The libraries used to tackle the project are FastAi and Pandas. FastAi is an open source library for deep learning built atop Pytorch. Pandas is a fast, powerful, flexible and easy to use open source data analysis and manipulation tool, built on top of the Python programming language.\n"
   ]
  },
  {
   "cell_type": "code",
   "execution_count": 1,
   "metadata": {},
   "outputs": [],
   "source": [
    "from fastai.vision.all import *\n",
    "from fastai.data.all import *\n",
    "from fastai.vision.data import *\n"
   ]
  },
  {
   "cell_type": "code",
   "execution_count": 2,
   "metadata": {},
   "outputs": [],
   "source": [
    "path = untar_data('https://s3.amazonaws.com/fast-ai-imagelocal/pascal_2012.tgz')"
   ]
  },
  {
   "cell_type": "code",
   "execution_count": 3,
   "metadata": {},
   "outputs": [
    {
     "data": {
      "text/plain": [
       "(#6) [Path('train'),Path('test'),Path('valid.json'),Path('segmentation'),Path('train.json'),Path('train.csv')]"
      ]
     },
     "execution_count": 3,
     "metadata": {},
     "output_type": "execute_result"
    }
   ],
   "source": [
    "Path.BASE_PATH = path\n",
    "path.ls()"
   ]
  },
  {
   "cell_type": "code",
   "execution_count": 4,
   "metadata": {},
   "outputs": [
    {
     "data": {
      "text/plain": [
       "(#11540) [Path('train/2010_001140.jpg'),Path('train/2008_004907.jpg'),Path('train/2010_005998.jpg'),Path('train/2011_003275.jpg'),Path('train/2008_000090.jpg'),Path('train/2009_002311.jpg'),Path('train/2010_000395.jpg'),Path('train/2009_001201.jpg'),Path('train/2009_002325.jpg'),Path('train/2008_006355.jpg')...]"
      ]
     },
     "execution_count": 4,
     "metadata": {},
     "output_type": "execute_result"
    }
   ],
   "source": [
    "(path/\"train\").ls()"
   ]
  },
  {
   "cell_type": "code",
   "execution_count": 5,
   "metadata": {},
   "outputs": [],
   "source": [
    "import pandas as pd"
   ]
  },
  {
   "cell_type": "code",
   "execution_count": 6,
   "metadata": {},
   "outputs": [],
   "source": [
    "label = pd.read_csv(path/\"train.csv\")"
   ]
  },
  {
   "cell_type": "code",
   "execution_count": 7,
   "metadata": {},
   "outputs": [
    {
     "data": {
      "text/html": [
       "<div>\n",
       "<style scoped>\n",
       "    .dataframe tbody tr th:only-of-type {\n",
       "        vertical-align: middle;\n",
       "    }\n",
       "\n",
       "    .dataframe tbody tr th {\n",
       "        vertical-align: top;\n",
       "    }\n",
       "\n",
       "    .dataframe thead th {\n",
       "        text-align: right;\n",
       "    }\n",
       "</style>\n",
       "<table border=\"1\" class=\"dataframe\">\n",
       "  <thead>\n",
       "    <tr style=\"text-align: right;\">\n",
       "      <th></th>\n",
       "      <th>fname</th>\n",
       "      <th>labels</th>\n",
       "      <th>is_valid</th>\n",
       "    </tr>\n",
       "  </thead>\n",
       "  <tbody>\n",
       "    <tr>\n",
       "      <th>0</th>\n",
       "      <td>2008_000002.jpg</td>\n",
       "      <td>tvmonitor</td>\n",
       "      <td>True</td>\n",
       "    </tr>\n",
       "    <tr>\n",
       "      <th>1</th>\n",
       "      <td>2008_000003.jpg</td>\n",
       "      <td>train person</td>\n",
       "      <td>True</td>\n",
       "    </tr>\n",
       "    <tr>\n",
       "      <th>2</th>\n",
       "      <td>2008_000007.jpg</td>\n",
       "      <td>boat</td>\n",
       "      <td>True</td>\n",
       "    </tr>\n",
       "    <tr>\n",
       "      <th>3</th>\n",
       "      <td>2008_000008.jpg</td>\n",
       "      <td>horse person</td>\n",
       "      <td>False</td>\n",
       "    </tr>\n",
       "    <tr>\n",
       "      <th>4</th>\n",
       "      <td>2008_000009.jpg</td>\n",
       "      <td>cow</td>\n",
       "      <td>True</td>\n",
       "    </tr>\n",
       "  </tbody>\n",
       "</table>\n",
       "</div>"
      ],
      "text/plain": [
       "             fname        labels  is_valid\n",
       "0  2008_000002.jpg     tvmonitor      True\n",
       "1  2008_000003.jpg  train person      True\n",
       "2  2008_000007.jpg          boat      True\n",
       "3  2008_000008.jpg  horse person     False\n",
       "4  2008_000009.jpg           cow      True"
      ]
     },
     "execution_count": 7,
     "metadata": {},
     "output_type": "execute_result"
    }
   ],
   "source": [
    "label.head()"
   ]
  },
  {
   "cell_type": "code",
   "execution_count": 8,
   "metadata": {},
   "outputs": [
    {
     "data": {
      "text/plain": [
       "person                                     1002\n",
       "cat                                         818\n",
       "dog                                         784\n",
       "bird                                        698\n",
       "aeroplane                                   553\n",
       "                                           ... \n",
       "dog motorbike person                          1\n",
       "tvmonitor diningtable chair sofa bottle       1\n",
       "sheep cow                                     1\n",
       "chair diningtable person sofa                 1\n",
       "person chair pottedplant diningtable          1\n",
       "Name: labels, Length: 761, dtype: int64"
      ]
     },
     "execution_count": 8,
     "metadata": {},
     "output_type": "execute_result"
    }
   ],
   "source": [
    "label['labels'].value_counts()"
   ]
  },
  {
   "cell_type": "code",
   "execution_count": 9,
   "metadata": {},
   "outputs": [
    {
     "data": {
      "text/plain": [
       "761"
      ]
     },
     "execution_count": 9,
     "metadata": {},
     "output_type": "execute_result"
    }
   ],
   "source": [
    "len(label[\"labels\"].unique())"
   ]
  },
  {
   "cell_type": "code",
   "execution_count": 10,
   "metadata": {},
   "outputs": [
    {
     "data": {
      "text/plain": [
       "person                                     0.086828\n",
       "cat                                        0.070884\n",
       "dog                                        0.067938\n",
       "bird                                       0.060485\n",
       "aeroplane                                  0.047920\n",
       "                                             ...   \n",
       "dog motorbike person                       0.000087\n",
       "tvmonitor diningtable chair sofa bottle    0.000087\n",
       "sheep cow                                  0.000087\n",
       "chair diningtable person sofa              0.000087\n",
       "person chair pottedplant diningtable       0.000087\n",
       "Name: labels, Length: 761, dtype: float64"
      ]
     },
     "execution_count": 10,
     "metadata": {},
     "output_type": "execute_result"
    }
   ],
   "source": [
    "label[\"labels\"].value_counts(normalize=True)"
   ]
  },
  {
   "cell_type": "code",
   "execution_count": 11,
   "metadata": {},
   "outputs": [],
   "source": [
    "def splitter(df):\n",
    "    train = df.index[~df['is_valid']].tolist()\n",
    "    valid = df.index[df['is_valid']].tolist()\n",
    "    return train,valid\n"
   ]
  },
  {
   "cell_type": "code",
   "execution_count": 12,
   "metadata": {},
   "outputs": [],
   "source": [
    "def get_x(r): return path/'train'/r['fname']\n",
    "def get_y(r): return r['labels'].split(' ')\n"
   ]
  },
  {
   "cell_type": "code",
   "execution_count": 13,
   "metadata": {},
   "outputs": [
    {
     "data": {
      "text/plain": [
       "(PILImage mode=RGB size=500x489,\n",
       " TensorMultiCategory([0., 0., 1., 0., 0., 0., 0., 0., 0., 0., 0., 0., 0., 0., 0., 0., 0., 0.,\n",
       "         0., 0.]))"
      ]
     },
     "execution_count": 13,
     "metadata": {},
     "output_type": "execute_result"
    }
   ],
   "source": [
    "dblock = DataBlock(blocks=(ImageBlock, MultiCategoryBlock),\n",
    "                   get_x = get_x, get_y = get_y)\n",
    "\n",
    "dsets = dblock.datasets(label)\n",
    "dsets.train[0]"
   ]
  },
  {
   "cell_type": "markdown",
   "metadata": {},
   "source": [
    "# Base Model"
   ]
  },
  {
   "cell_type": "code",
   "execution_count": 14,
   "metadata": {},
   "outputs": [],
   "source": [
    "def get_dls(bs, size):\n",
    "    dblock = DataBlock(blocks=[ImageBlock, MultiCategoryBlock],\n",
    "                  get_x=get_x,\n",
    "                  get_y=get_y,\n",
    "                  splitter=splitter,\n",
    "                  item_tfms=[Resize(460)],\n",
    "                  batch_tfms = [*aug_transforms(size=size, min_scale=0.75), Normalize.from_stats(*imagenet_stats)])\n",
    "    return dblock.dataloaders(label, bs=bs)\n",
    "\n",
    "\n"
   ]
  },
  {
   "cell_type": "markdown",
   "metadata": {},
   "source": [
    "### Resnet-18"
   ]
  },
  {
   "cell_type": "markdown",
   "metadata": {},
   "source": [
    "The base model is a Resnet-18 model. Resnet is a state-of-the-art artificial neural network. The distinct feature of a Resnet is the method by which the it deals with Vanishing gradients: skipping over layers the by reusing activations from a previous layer until the adjacent layer learns its weights. During training, the weights adapt to mute the upstream layer[clarification needed], and amplify the previously-skipped layer.\n",
    "\n",
    "For the base model, the Resnet model is trained with a presize technique and the learning rate optimized later on.\n",
    "Presizing is a technique that resize images to large dimensions, larger than the training image and compose all of the common augmentation operations into one and perform the operation on the GPU only once at the end of the processing."
   ]
  },
  {
   "cell_type": "code",
   "execution_count": 15,
   "metadata": {},
   "outputs": [],
   "source": [
    "dls = get_dls(128, 128)"
   ]
  },
  {
   "cell_type": "code",
   "execution_count": 16,
   "metadata": {},
   "outputs": [
    {
     "data": {
      "image/png": "[encoded data removed]",
      "text/plain": [
       "<Figure size 648x216 with 3 Axes>"
      ]
     },
     "metadata": {
      "needs_background": "light"
     },
     "output_type": "display_data"
    }
   ],
   "source": [
    "dls.show_batch(nrows=1, ncols=3)"
   ]
  },
  {
   "cell_type": "code",
   "execution_count": 17,
   "metadata": {},
   "outputs": [
    {
     "data": {
      "text/html": [
       "<table border=\"1\" class=\"dataframe\">\n",
       "  <thead>\n",
       "    <tr style=\"text-align: left;\">\n",
       "      <th>epoch</th>\n",
       "      <th>train_loss</th>\n",
       "      <th>valid_loss</th>\n",
       "      <th>accuracy_multi</th>\n",
       "      <th>time</th>\n",
       "    </tr>\n",
       "  </thead>\n",
       "  <tbody>\n",
       "    <tr>\n",
       "      <td>0</td>\n",
       "      <td>0.890163</td>\n",
       "      <td>0.581501</td>\n",
       "      <td>0.231032</td>\n",
       "      <td>00:37</td>\n",
       "    </tr>\n",
       "  </tbody>\n",
       "</table>"
      ],
      "text/plain": [
       "<IPython.core.display.HTML object>"
      ]
     },
     "metadata": {},
     "output_type": "display_data"
    },
    {
     "data": {
      "text/html": [
       "<table border=\"1\" class=\"dataframe\">\n",
       "  <thead>\n",
       "    <tr style=\"text-align: left;\">\n",
       "      <th>epoch</th>\n",
       "      <th>train_loss</th>\n",
       "      <th>valid_loss</th>\n",
       "      <th>accuracy_multi</th>\n",
       "      <th>time</th>\n",
       "    </tr>\n",
       "  </thead>\n",
       "  <tbody>\n",
       "    <tr>\n",
       "      <td>0</td>\n",
       "      <td>0.675802</td>\n",
       "      <td>0.509365</td>\n",
       "      <td>0.238339</td>\n",
       "      <td>00:38</td>\n",
       "    </tr>\n",
       "    <tr>\n",
       "      <td>1</td>\n",
       "      <td>0.606788</td>\n",
       "      <td>0.404262</td>\n",
       "      <td>0.325837</td>\n",
       "      <td>00:39</td>\n",
       "    </tr>\n",
       "    <tr>\n",
       "      <td>2</td>\n",
       "      <td>0.482538</td>\n",
       "      <td>0.246250</td>\n",
       "      <td>0.681547</td>\n",
       "      <td>00:39</td>\n",
       "    </tr>\n",
       "    <tr>\n",
       "      <td>3</td>\n",
       "      <td>0.338871</td>\n",
       "      <td>0.153594</td>\n",
       "      <td>0.927082</td>\n",
       "      <td>00:39</td>\n",
       "    </tr>\n",
       "    <tr>\n",
       "      <td>4</td>\n",
       "      <td>0.236782</td>\n",
       "      <td>0.125848</td>\n",
       "      <td>0.942186</td>\n",
       "      <td>00:39</td>\n",
       "    </tr>\n",
       "    <tr>\n",
       "      <td>5</td>\n",
       "      <td>0.179385</td>\n",
       "      <td>0.115693</td>\n",
       "      <td>0.947038</td>\n",
       "      <td>00:39</td>\n",
       "    </tr>\n",
       "    <tr>\n",
       "      <td>6</td>\n",
       "      <td>0.147436</td>\n",
       "      <td>0.110586</td>\n",
       "      <td>0.950824</td>\n",
       "      <td>00:39</td>\n",
       "    </tr>\n",
       "    <tr>\n",
       "      <td>7</td>\n",
       "      <td>0.130399</td>\n",
       "      <td>0.107883</td>\n",
       "      <td>0.950927</td>\n",
       "      <td>00:40</td>\n",
       "    </tr>\n",
       "    <tr>\n",
       "      <td>8</td>\n",
       "      <td>0.118712</td>\n",
       "      <td>0.106291</td>\n",
       "      <td>0.947991</td>\n",
       "      <td>00:39</td>\n",
       "    </tr>\n",
       "    <tr>\n",
       "      <td>9</td>\n",
       "      <td>0.108781</td>\n",
       "      <td>0.104413</td>\n",
       "      <td>0.952507</td>\n",
       "      <td>00:39</td>\n",
       "    </tr>\n",
       "    <tr>\n",
       "      <td>10</td>\n",
       "      <td>0.101998</td>\n",
       "      <td>0.103443</td>\n",
       "      <td>0.953040</td>\n",
       "      <td>00:40</td>\n",
       "    </tr>\n",
       "    <tr>\n",
       "      <td>11</td>\n",
       "      <td>0.096785</td>\n",
       "      <td>0.102995</td>\n",
       "      <td>0.952542</td>\n",
       "      <td>00:40</td>\n",
       "    </tr>\n",
       "    <tr>\n",
       "      <td>12</td>\n",
       "      <td>0.092918</td>\n",
       "      <td>0.102621</td>\n",
       "      <td>0.952018</td>\n",
       "      <td>00:39</td>\n",
       "    </tr>\n",
       "    <tr>\n",
       "      <td>13</td>\n",
       "      <td>0.092299</td>\n",
       "      <td>0.102562</td>\n",
       "      <td>0.952464</td>\n",
       "      <td>00:40</td>\n",
       "    </tr>\n",
       "    <tr>\n",
       "      <td>14</td>\n",
       "      <td>0.090058</td>\n",
       "      <td>0.102730</td>\n",
       "      <td>0.951837</td>\n",
       "      <td>00:39</td>\n",
       "    </tr>\n",
       "  </tbody>\n",
       "</table>"
      ],
      "text/plain": [
       "<IPython.core.display.HTML object>"
      ]
     },
     "metadata": {},
     "output_type": "display_data"
    }
   ],
   "source": [
    "learn = cnn_learner(dls, resnet18, metrics=partial(accuracy_multi, thresh=0.2))\n",
    "learn.fine_tune(15)\n"
   ]
  },
  {
   "cell_type": "code",
   "execution_count": 18,
   "metadata": {},
   "outputs": [
    {
     "data": {
      "text/html": [],
      "text/plain": [
       "<IPython.core.display.HTML object>"
      ]
     },
     "metadata": {},
     "output_type": "display_data"
    },
    {
     "data": {
      "image/png": "[encoded data removed]",
      "text/plain": [
       "<Figure size 432x288 with 1 Axes>"
      ]
     },
     "metadata": {
      "needs_background": "light"
     },
     "output_type": "display_data"
    }
   ],
   "source": [
    "preds,targs = learn.get_preds()\n",
    "xs = torch.linspace(0.05,0.95,29)\n",
    "accs = [accuracy_multi(preds, targs, thresh=i, sigmoid=False) for i in xs]\n",
    "plt.plot(xs,accs);"
   ]
  },
  {
   "cell_type": "code",
   "execution_count": 19,
   "metadata": {},
   "outputs": [
    {
     "data": {
      "text/html": [
       "<table border=\"1\" class=\"dataframe\">\n",
       "  <thead>\n",
       "    <tr style=\"text-align: left;\">\n",
       "      <th>epoch</th>\n",
       "      <th>train_loss</th>\n",
       "      <th>valid_loss</th>\n",
       "      <th>accuracy_multi</th>\n",
       "      <th>time</th>\n",
       "    </tr>\n",
       "  </thead>\n",
       "  <tbody>\n",
       "    <tr>\n",
       "      <td>0</td>\n",
       "      <td>0.890984</td>\n",
       "      <td>0.574169</td>\n",
       "      <td>0.826086</td>\n",
       "      <td>00:35</td>\n",
       "    </tr>\n",
       "  </tbody>\n",
       "</table>"
      ],
      "text/plain": [
       "<IPython.core.display.HTML object>"
      ]
     },
     "metadata": {},
     "output_type": "display_data"
    },
    {
     "data": {
      "text/html": [
       "<table border=\"1\" class=\"dataframe\">\n",
       "  <thead>\n",
       "    <tr style=\"text-align: left;\">\n",
       "      <th>epoch</th>\n",
       "      <th>train_loss</th>\n",
       "      <th>valid_loss</th>\n",
       "      <th>accuracy_multi</th>\n",
       "      <th>time</th>\n",
       "    </tr>\n",
       "  </thead>\n",
       "  <tbody>\n",
       "    <tr>\n",
       "      <td>0</td>\n",
       "      <td>0.675012</td>\n",
       "      <td>0.500461</td>\n",
       "      <td>0.884218</td>\n",
       "      <td>00:39</td>\n",
       "    </tr>\n",
       "    <tr>\n",
       "      <td>1</td>\n",
       "      <td>0.602088</td>\n",
       "      <td>0.395013</td>\n",
       "      <td>0.933436</td>\n",
       "      <td>00:39</td>\n",
       "    </tr>\n",
       "    <tr>\n",
       "      <td>2</td>\n",
       "      <td>0.479642</td>\n",
       "      <td>0.239076</td>\n",
       "      <td>0.955513</td>\n",
       "      <td>00:39</td>\n",
       "    </tr>\n",
       "    <tr>\n",
       "      <td>3</td>\n",
       "      <td>0.335336</td>\n",
       "      <td>0.151968</td>\n",
       "      <td>0.956620</td>\n",
       "      <td>00:38</td>\n",
       "    </tr>\n",
       "    <tr>\n",
       "      <td>4</td>\n",
       "      <td>0.235170</td>\n",
       "      <td>0.125434</td>\n",
       "      <td>0.957780</td>\n",
       "      <td>00:38</td>\n",
       "    </tr>\n",
       "    <tr>\n",
       "      <td>5</td>\n",
       "      <td>0.178710</td>\n",
       "      <td>0.114936</td>\n",
       "      <td>0.959746</td>\n",
       "      <td>00:39</td>\n",
       "    </tr>\n",
       "    <tr>\n",
       "      <td>6</td>\n",
       "      <td>0.147824</td>\n",
       "      <td>0.110451</td>\n",
       "      <td>0.961309</td>\n",
       "      <td>00:38</td>\n",
       "    </tr>\n",
       "    <tr>\n",
       "      <td>7</td>\n",
       "      <td>0.129579</td>\n",
       "      <td>0.107333</td>\n",
       "      <td>0.962004</td>\n",
       "      <td>00:38</td>\n",
       "    </tr>\n",
       "    <tr>\n",
       "      <td>8</td>\n",
       "      <td>0.117450</td>\n",
       "      <td>0.104974</td>\n",
       "      <td>0.962176</td>\n",
       "      <td>00:39</td>\n",
       "    </tr>\n",
       "    <tr>\n",
       "      <td>9</td>\n",
       "      <td>0.108728</td>\n",
       "      <td>0.104116</td>\n",
       "      <td>0.962700</td>\n",
       "      <td>00:38</td>\n",
       "    </tr>\n",
       "    <tr>\n",
       "      <td>10</td>\n",
       "      <td>0.101946</td>\n",
       "      <td>0.103346</td>\n",
       "      <td>0.963138</td>\n",
       "      <td>00:39</td>\n",
       "    </tr>\n",
       "    <tr>\n",
       "      <td>11</td>\n",
       "      <td>0.097661</td>\n",
       "      <td>0.102471</td>\n",
       "      <td>0.963601</td>\n",
       "      <td>00:40</td>\n",
       "    </tr>\n",
       "    <tr>\n",
       "      <td>12</td>\n",
       "      <td>0.093933</td>\n",
       "      <td>0.102290</td>\n",
       "      <td>0.963335</td>\n",
       "      <td>00:38</td>\n",
       "    </tr>\n",
       "    <tr>\n",
       "      <td>13</td>\n",
       "      <td>0.091753</td>\n",
       "      <td>0.101968</td>\n",
       "      <td>0.963533</td>\n",
       "      <td>00:39</td>\n",
       "    </tr>\n",
       "    <tr>\n",
       "      <td>14</td>\n",
       "      <td>0.089039</td>\n",
       "      <td>0.102073</td>\n",
       "      <td>0.963541</td>\n",
       "      <td>00:38</td>\n",
       "    </tr>\n",
       "  </tbody>\n",
       "</table>"
      ],
      "text/plain": [
       "<IPython.core.display.HTML object>"
      ]
     },
     "metadata": {},
     "output_type": "display_data"
    }
   ],
   "source": [
    "learn = cnn_learner(dls, resnet18, metrics=partial(accuracy_multi, thresh=0.6))\n",
    "learn.fine_tune(15)\n"
   ]
  },
  {
   "cell_type": "markdown",
   "metadata": {},
   "source": [
    "# Progressive Resizing"
   ]
  },
  {
   "cell_type": "markdown",
   "metadata": {},
   "source": [
    "Progressive Resizing is a training technique (it's also a Data augmentation technique) where at the start of the training the model is given small images and towards the end of the training the model is given larger images (there is no benefit making the image bigger than what is on the Disk).\n",
    "\n",
    "It’s faster to train on larger numbers of smaller images initially and then scale up the network and training images. Progressive resizing also helps the model to generalise better as is sees many more different images and less likely to be overfitting. In addition, as the training image size increases the batch size has to decreased to avoid running out of memory, as each batch contains larger images with more pixels in each.\n"
   ]
  },
  {
   "cell_type": "code",
   "execution_count": 20,
   "metadata": {},
   "outputs": [],
   "source": [
    "def get_dls(bs, size):\n",
    "    dblock = DataBlock(blocks=[ImageBlock, MultiCategoryBlock],\n",
    "                  get_x=get_x,\n",
    "                  get_y=get_y,\n",
    "                  splitter=splitter,\n",
    "                  item_tfms=[Resize(460)],\n",
    "                  batch_tfms = [*aug_transforms(size=size, min_scale=0.75), Normalize.from_stats(*imagenet_stats)])\n",
    "    return dblock.dataloaders(label, bs=bs)\n",
    "\n",
    "\n"
   ]
  },
  {
   "cell_type": "code",
   "execution_count": 21,
   "metadata": {},
   "outputs": [
    {
     "data": {
      "text/html": [
       "<table border=\"1\" class=\"dataframe\">\n",
       "  <thead>\n",
       "    <tr style=\"text-align: left;\">\n",
       "      <th>epoch</th>\n",
       "      <th>train_loss</th>\n",
       "      <th>valid_loss</th>\n",
       "      <th>accuracy_multi</th>\n",
       "      <th>time</th>\n",
       "    </tr>\n",
       "  </thead>\n",
       "  <tbody>\n",
       "    <tr>\n",
       "      <td>0</td>\n",
       "      <td>1.020714</td>\n",
       "      <td>0.744947</td>\n",
       "      <td>0.693672</td>\n",
       "      <td>00:35</td>\n",
       "    </tr>\n",
       "    <tr>\n",
       "      <td>1</td>\n",
       "      <td>0.889923</td>\n",
       "      <td>0.598018</td>\n",
       "      <td>0.815791</td>\n",
       "      <td>00:36</td>\n",
       "    </tr>\n",
       "    <tr>\n",
       "      <td>2</td>\n",
       "      <td>0.703423</td>\n",
       "      <td>0.352485</td>\n",
       "      <td>0.938794</td>\n",
       "      <td>00:35</td>\n",
       "    </tr>\n",
       "    <tr>\n",
       "      <td>3</td>\n",
       "      <td>0.474690</td>\n",
       "      <td>0.180278</td>\n",
       "      <td>0.955624</td>\n",
       "      <td>00:35</td>\n",
       "    </tr>\n",
       "    <tr>\n",
       "      <td>4</td>\n",
       "      <td>0.311685</td>\n",
       "      <td>0.136051</td>\n",
       "      <td>0.956363</td>\n",
       "      <td>00:35</td>\n",
       "    </tr>\n",
       "    <tr>\n",
       "      <td>5</td>\n",
       "      <td>0.226667</td>\n",
       "      <td>0.125350</td>\n",
       "      <td>0.957436</td>\n",
       "      <td>00:35</td>\n",
       "    </tr>\n",
       "    <tr>\n",
       "      <td>6</td>\n",
       "      <td>0.183275</td>\n",
       "      <td>0.119380</td>\n",
       "      <td>0.958209</td>\n",
       "      <td>00:36</td>\n",
       "    </tr>\n",
       "    <tr>\n",
       "      <td>7</td>\n",
       "      <td>0.160608</td>\n",
       "      <td>0.116287</td>\n",
       "      <td>0.958733</td>\n",
       "      <td>00:36</td>\n",
       "    </tr>\n",
       "    <tr>\n",
       "      <td>8</td>\n",
       "      <td>0.150624</td>\n",
       "      <td>0.115681</td>\n",
       "      <td>0.958818</td>\n",
       "      <td>00:35</td>\n",
       "    </tr>\n",
       "    <tr>\n",
       "      <td>9</td>\n",
       "      <td>0.145501</td>\n",
       "      <td>0.115915</td>\n",
       "      <td>0.958630</td>\n",
       "      <td>00:35</td>\n",
       "    </tr>\n",
       "  </tbody>\n",
       "</table>"
      ],
      "text/plain": [
       "<IPython.core.display.HTML object>"
      ]
     },
     "metadata": {},
     "output_type": "display_data"
    },
    {
     "data": {
      "text/html": [
       "<table border=\"1\" class=\"dataframe\">\n",
       "  <thead>\n",
       "    <tr style=\"text-align: left;\">\n",
       "      <th>epoch</th>\n",
       "      <th>train_loss</th>\n",
       "      <th>valid_loss</th>\n",
       "      <th>accuracy_multi</th>\n",
       "      <th>time</th>\n",
       "    </tr>\n",
       "  </thead>\n",
       "  <tbody>\n",
       "    <tr>\n",
       "      <td>0</td>\n",
       "      <td>0.121867</td>\n",
       "      <td>0.093427</td>\n",
       "      <td>0.966735</td>\n",
       "      <td>00:54</td>\n",
       "    </tr>\n",
       "  </tbody>\n",
       "</table>"
      ],
      "text/plain": [
       "<IPython.core.display.HTML object>"
      ]
     },
     "metadata": {},
     "output_type": "display_data"
    },
    {
     "data": {
      "text/html": [
       "<table border=\"1\" class=\"dataframe\">\n",
       "  <thead>\n",
       "    <tr style=\"text-align: left;\">\n",
       "      <th>epoch</th>\n",
       "      <th>train_loss</th>\n",
       "      <th>valid_loss</th>\n",
       "      <th>accuracy_multi</th>\n",
       "      <th>time</th>\n",
       "    </tr>\n",
       "  </thead>\n",
       "  <tbody>\n",
       "    <tr>\n",
       "      <td>0</td>\n",
       "      <td>0.109932</td>\n",
       "      <td>0.085333</td>\n",
       "      <td>0.969870</td>\n",
       "      <td>01:03</td>\n",
       "    </tr>\n",
       "    <tr>\n",
       "      <td>1</td>\n",
       "      <td>0.102520</td>\n",
       "      <td>0.085024</td>\n",
       "      <td>0.969371</td>\n",
       "      <td>01:02</td>\n",
       "    </tr>\n",
       "    <tr>\n",
       "      <td>2</td>\n",
       "      <td>0.090491</td>\n",
       "      <td>0.081676</td>\n",
       "      <td>0.971218</td>\n",
       "      <td>01:02</td>\n",
       "    </tr>\n",
       "    <tr>\n",
       "      <td>3</td>\n",
       "      <td>0.078580</td>\n",
       "      <td>0.080137</td>\n",
       "      <td>0.971716</td>\n",
       "      <td>01:02</td>\n",
       "    </tr>\n",
       "    <tr>\n",
       "      <td>4</td>\n",
       "      <td>0.070887</td>\n",
       "      <td>0.079691</td>\n",
       "      <td>0.972171</td>\n",
       "      <td>01:02</td>\n",
       "    </tr>\n",
       "  </tbody>\n",
       "</table>"
      ],
      "text/plain": [
       "<IPython.core.display.HTML object>"
      ]
     },
     "metadata": {},
     "output_type": "display_data"
    }
   ],
   "source": [
    "dls = get_dls(128, 128)\n",
    "learn = cnn_learner(dls, resnet18, metrics=partial(accuracy_multi, thresh=0.6))\n",
    "learn.fit_one_cycle(10)\n",
    "learn.dls = get_dls(64, 224)\n",
    "learn.fine_tune(5)\n"
   ]
  },
  {
   "cell_type": "markdown",
   "metadata": {},
   "source": [
    "## Results\n",
    "\n",
    "As observed from the results above, the progressive resizing model performed better than the base resnet-18 model. Focusing on the Training and Valid Loss, the base model is overfitting as the training loss is significantly lower than the validation loss. \n",
    "\n",
    "\n",
    "| Technique              | Accuracy     | Train Loss   | Valid Loss   |\n",
    "| :----------------------| :----------: | -----------: | -----------: |\n",
    "| Base Model             | 96.3541      | 0.089039     | 0.102073     |\n",
    "| Progressive Resizing   | 97.2171      | 0.070887     | 0.079691     |\n",
    "\n",
    "### Suggestions for Improvement\n",
    "* More Image augmentations like horizontal flip etc.\n",
    "* Remove images in the datasets that are improperly labelled.\n",
    "* Training with different progressive sizes."
   ]
  },
  {
   "cell_type": "code",
   "execution_count": null,
   "metadata": {},
   "outputs": [],
   "source": []
  }
 ],
 "metadata": {
  "kernelspec": {
   "display_name": "Python 3",
   "language": "python",
   "name": "python3"
  },
  "language_info": {
   "codemirror_mode": {
    "name": "ipython",
    "version": 3
   },
   "file_extension": ".py",
   "mimetype": "text/x-python",
   "name": "python",
   "nbconvert_exporter": "python",
   "pygments_lexer": "ipython3",
   "version": "3.7.6"
  }
 },
 "nbformat": 4,
 "nbformat_minor": 4
}
